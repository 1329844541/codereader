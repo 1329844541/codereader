{
 "cells": [
  {
   "cell_type": "markdown",
   "metadata": {},
   "source": [
    "# 数据概述\n",
    "[源代码地址](https://www.kaggle.com/dmitriy19/d/kaggle/us-baby-names/exploring-us-baby-names)"
   ]
  },
  {
   "cell_type": "markdown",
   "metadata": {},
   "source": [
    "## 引入相关包"
   ]
  },
  {
   "cell_type": "code",
   "execution_count": 1,
   "metadata": {
    "collapsed": true
   },
   "outputs": [],
   "source": [
    "import pandas as pd\n",
    "import seaborn as sns\n",
    "import numpy as np\n",
    "\n",
    "from collections import Counter\n",
    "\n",
    "import matplotlib.pyplot as plt\n",
    "%matplotlib inline"
   ]
  },
  {
   "cell_type": "markdown",
   "metadata": {},
   "source": [
    "## 查看数据内容"
   ]
  },
  {
   "cell_type": "code",
   "execution_count": 4,
   "metadata": {
    "collapsed": false
   },
   "outputs": [
    {
     "data": {
      "text/html": [
       "<div>\n",
       "<table border=\"1\" class=\"dataframe\">\n",
       "  <thead>\n",
       "    <tr style=\"text-align: right;\">\n",
       "      <th></th>\n",
       "      <th>Id</th>\n",
       "      <th>Name</th>\n",
       "      <th>Year</th>\n",
       "      <th>Gender</th>\n",
       "      <th>Count</th>\n",
       "    </tr>\n",
       "  </thead>\n",
       "  <tbody>\n",
       "    <tr>\n",
       "      <th>0</th>\n",
       "      <td>1</td>\n",
       "      <td>Mary</td>\n",
       "      <td>1880</td>\n",
       "      <td>F</td>\n",
       "      <td>7065</td>\n",
       "    </tr>\n",
       "    <tr>\n",
       "      <th>1</th>\n",
       "      <td>2</td>\n",
       "      <td>Anna</td>\n",
       "      <td>1880</td>\n",
       "      <td>F</td>\n",
       "      <td>2604</td>\n",
       "    </tr>\n",
       "    <tr>\n",
       "      <th>2</th>\n",
       "      <td>3</td>\n",
       "      <td>Emma</td>\n",
       "      <td>1880</td>\n",
       "      <td>F</td>\n",
       "      <td>2003</td>\n",
       "    </tr>\n",
       "    <tr>\n",
       "      <th>3</th>\n",
       "      <td>4</td>\n",
       "      <td>Elizabeth</td>\n",
       "      <td>1880</td>\n",
       "      <td>F</td>\n",
       "      <td>1939</td>\n",
       "    </tr>\n",
       "    <tr>\n",
       "      <th>4</th>\n",
       "      <td>5</td>\n",
       "      <td>Minnie</td>\n",
       "      <td>1880</td>\n",
       "      <td>F</td>\n",
       "      <td>1746</td>\n",
       "    </tr>\n",
       "  </tbody>\n",
       "</table>\n",
       "</div>"
      ],
      "text/plain": [
       "   Id       Name  Year Gender  Count\n",
       "0   1       Mary  1880      F   7065\n",
       "1   2       Anna  1880      F   2604\n",
       "2   3       Emma  1880      F   2003\n",
       "3   4  Elizabeth  1880      F   1939\n",
       "4   5     Minnie  1880      F   1746"
      ]
     },
     "execution_count": 4,
     "metadata": {},
     "output_type": "execute_result"
    }
   ],
   "source": [
    "data = pd.read_csv('./dataset/NationalNames.csv')\n",
    "data.head()"
   ]
  },
  {
   "cell_type": "markdown",
   "metadata": {},
   "source": [
    "## 查看数据详情"
   ]
  },
  {
   "cell_type": "code",
   "execution_count": 5,
   "metadata": {
    "collapsed": false
   },
   "outputs": [
    {
     "name": "stdout",
     "output_type": "stream",
     "text": [
      "<class 'pandas.core.frame.DataFrame'>\n",
      "RangeIndex: 1825433 entries, 0 to 1825432\n",
      "Data columns (total 5 columns):\n",
      "Id        int64\n",
      "Name      object\n",
      "Year      int64\n",
      "Gender    object\n",
      "Count     int64\n",
      "dtypes: int64(3), object(2)\n",
      "memory usage: 69.6+ MB\n"
     ]
    }
   ],
   "source": [
    "data.info()"
   ]
  },
  {
   "cell_type": "markdown",
   "metadata": {},
   "source": [
    "# 全美流行的婴儿名字 top25"
   ]
  },
  {
   "cell_type": "code",
   "execution_count": 6,
   "metadata": {
    "collapsed": true
   },
   "outputs": [],
   "source": [
    "names_dict = dict()\n",
    "\n",
    "for index, row in data.iterrows():\n",
    "    if row['Name'] not in names_dict:\n",
    "        names_dict[row['Name']] = row['Count']\n",
    "    else:\n",
    "        names_dict[row['Name']] += row['Count']"
   ]
  },
  {
   "cell_type": "code",
   "execution_count": 7,
   "metadata": {
    "collapsed": false
   },
   "outputs": [
    {
     "name": "stdout",
     "output_type": "stream",
     "text": [
      "全美流行的婴儿名字 top25：\n",
      "James\n",
      "John\n",
      "Robert\n",
      "Michael\n",
      "Mary\n",
      "William\n",
      "David\n",
      "Joseph\n",
      "Richard\n",
      "Charles\n",
      "Thomas\n",
      "Christopher\n",
      "Daniel\n",
      "Elizabeth\n",
      "Patricia\n",
      "Matthew\n",
      "Jennifer\n",
      "George\n",
      "Linda\n",
      "Barbara\n",
      "Donald\n",
      "Anthony\n",
      "Paul\n",
      "Mark\n",
      "Edward\n"
     ]
    }
   ],
   "source": [
    "top_25 = Counter(names_dict).most_common(25)\n",
    "print '全美流行的婴儿名字 top25：'\n",
    "for pair in top_25:\n",
    "    print pair[0]"
   ]
  },
  {
   "cell_type": "markdown",
   "metadata": {},
   "source": [
    "# 全美最不流行婴儿名字 top25"
   ]
  },
  {
   "cell_type": "code",
   "execution_count": 8,
   "metadata": {
    "collapsed": false
   },
   "outputs": [
    {
     "name": "stdout",
     "output_type": "stream",
     "text": [
      "全美最不流行婴儿名字 top25：\n",
      "Jaede\n",
      "Wavalene\n",
      "Tyieshia\n",
      "Lillya\n",
      "Pauleta\n",
      "Deavyn\n",
      "Taonna\n",
      "Elijahray\n",
      "Graysie\n",
      "Makalea\n",
      "Hartzel\n",
      "Makalei\n",
      "Vonisha\n",
      "Ezlynn\n",
      "Adelaid\n",
      "Charlae\n",
      "Charlay\n",
      "Earin\n",
      "Janalle\n",
      "Tyriona\n",
      "Damori\n",
      "Thadine\n",
      "Jylissa\n",
      "Zhyier\n"
     ]
    }
   ],
   "source": [
    "print('全美最不流行婴儿名字 top25：')\n",
    "for pair in Counter(names_dict).most_common()[:-25:-1]:\n",
    "    print(pair[0])"
   ]
  },
  {
   "cell_type": "markdown",
   "metadata": {},
   "source": [
    "## 名字的平均长度"
   ]
  },
  {
   "cell_type": "code",
   "execution_count": 9,
   "metadata": {
    "collapsed": true
   },
   "outputs": [],
   "source": [
    "def average_length_data_transform():\n",
    "    years = []\n",
    "    female_average_length = []\n",
    "    female_average_name_length = dict()\n",
    "    male_average_length = []\n",
    "    male_average_name_length = dict()\n",
    "    \n",
    "    for index, row in data.iterrows():\n",
    "        if row['Gender'] == 'F':\n",
    "            curr_year = row['Year']\n",
    "            curr_name_length = len(row['Name'])\n",
    "            if curr_year not in female_average_name_length:\n",
    "                female_average_name_length[curr_year] = [curr_name_length, 1]\n",
    "            else:\n",
    "                female_average_name_length[curr_year][0] += curr_name_length\n",
    "                female_average_name_length[curr_year][1] += 1\n",
    "        else:\n",
    "            curr_year = row['Year']\n",
    "            curr_name_length = len(row['Name'])\n",
    "            if curr_year not in male_average_name_length:\n",
    "                male_average_name_length[curr_year] = [curr_name_length, 1]\n",
    "            else:\n",
    "                male_average_name_length[curr_year][0] += curr_name_length\n",
    "                male_average_name_length[curr_year][1] += 1\n",
    "    \n",
    "    for key, value in female_average_name_length.items():\n",
    "        years.append(key)\n",
    "        female_average_length.append(float(value[0]) / value[1])\n",
    "        \n",
    "    for key, value in male_average_name_length.items():\n",
    "        years.append(key)\n",
    "        male_average_length.append(float(value[0]) / value[1])\n",
    "        \n",
    "    return (female_average_length, female_average_name_length, male_average_length, male_average_name_length)"
   ]
  },
  {
   "cell_type": "code",
   "execution_count": 10,
   "metadata": {
    "collapsed": true
   },
   "outputs": [],
   "source": [
    "female_average_length, female_average_name_length, male_average_length, male_average_name_length = average_length_data_transform()"
   ]
  },
  {
   "cell_type": "code",
   "execution_count": 12,
   "metadata": {
    "collapsed": false
   },
   "outputs": [
    {
     "data": {
      "image/png": "[encoded data removed]",
      "text/plain": [
       "<matplotlib.figure.Figure at 0x2de50978>"
      ]
     },
     "metadata": {},
     "output_type": "display_data"
    }
   ],
   "source": [
    "years = range(1880, 2015)\n",
    "f, ax = plt.subplots(figsize=(10, 6))\n",
    "ax.set_xlim([1880, 2014])\n",
    "\n",
    "plt.plot(years, female_average_length, label='Average length of female names', color='r')\n",
    "plt.plot(years, male_average_length, label='Average length of male names', color='b')\n",
    "\n",
    "ax.set_ylabel('Length of name')\n",
    "ax.set_xlabel('Year')\n",
    "ax.set_title('Average length of names')\n",
    "legend = plt.legend(loc='best', frameon=True, borderpad=1, borderaxespad=1)"
   ]
  },
  {
   "cell_type": "markdown",
   "metadata": {},
   "source": [
    "## 唯一姓名分析"
   ]
  },
  {
   "cell_type": "code",
   "execution_count": null,
   "metadata": {
    "collapsed": true
   },
   "outputs": [],
   "source": [
    "top_in_each_year = dict()\n",
    "years = range(1880, 2015)\n",
    "\n",
    "for each_year in years:\n",
    "    each_year_data = data[data['Year'] == each_year]\n",
    "    top_in_each_year[each_year] = dict()\n",
    "    for index, row in each_year_data.iterrows():            \n",
    "        top_in_each_year[each_year][row['Name']] = row['Count']"
   ]
  },
  {
   "cell_type": "code",
   "execution_count": null,
   "metadata": {
    "collapsed": true
   },
   "outputs": [],
   "source": [
    "all_sum = []\n",
    "top_25_sum = []\n",
    "for year, names_in_year in top_in_each_year.items():\n",
    "    all_sum.append(sum(Counter(names_in_year).values()))\n",
    "    top_25 = Counter(names_in_year).most_common(25)\n",
    "    sum_temp = 0\n",
    "    for pair in top_25:\n",
    "        sum_temp += pair[1]\n",
    "    top_25_sum.append(sum_temp)"
   ]
  },
  {
   "cell_type": "code",
   "execution_count": null,
   "metadata": {
    "collapsed": true
   },
   "outputs": [],
   "source": [
    "percent_unique_names = np.array(top_25_sum).astype(float) / np.array(all_sum) * 100"
   ]
  },
  {
   "cell_type": "code",
   "execution_count": null,
   "metadata": {
    "collapsed": true
   },
   "outputs": [],
   "source": [
    "f, ax = plt.subplots(figsize=(10, 6))\n",
    "ax.set_xlim([1880, 2014])\n",
    "\n",
    "plt.plot(years, percent_unique_names, label='Percent of unique names', color='black')\n",
    "\n",
    "ax.set_ylabel('Percent of unique names')\n",
    "ax.set_xlabel('Year')\n",
    "ax.set_title('Percent of unique names')\n",
    "legend = plt.legend(loc='best', frameon=True, borderpad=1, borderaxespad=1)"
   ]
  }
 ],
 "metadata": {
  "kernelspec": {
   "display_name": "Python [conda root]",
   "language": "python",
   "name": "conda-root-py"
  },
  "language_info": {
   "codemirror_mode": {
    "name": "ipython",
    "version": 2
   },
   "file_extension": ".py",
   "mimetype": "text/x-python",
   "name": "python",
   "nbconvert_exporter": "python",
   "pygments_lexer": "ipython2",
   "version": "2.7.12"
  }
 },
 "nbformat": 4,
 "nbformat_minor": 1
}
